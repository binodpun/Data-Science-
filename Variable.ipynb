{
  "nbformat": 4,
  "nbformat_minor": 0,
  "metadata": {
    "colab": {
      "provenance": [],
      "include_colab_link": true
    },
    "kernelspec": {
      "name": "python3",
      "display_name": "Python 3"
    },
    "language_info": {
      "name": "python"
    }
  },
  "cells": [
    {
      "cell_type": "markdown",
      "metadata": {
        "id": "view-in-github",
        "colab_type": "text"
      },
      "source": [
        "<a href=\"https://colab.research.google.com/github/binodpun/Data-Science-/blob/main/Variable.ipynb\" target=\"_parent\"><img src=\"https://colab.research.google.com/assets/colab-badge.svg\" alt=\"Open In Colab\"/></a>"
      ]
    },
    {
      "cell_type": "code",
      "execution_count": null,
      "metadata": {
        "colab": {
          "base_uri": "https://localhost:8080/"
        },
        "id": "rWpILiK6C38Z",
        "outputId": "1937dc90-68a4-49c5-923a-187f91ac0c72"
      },
      "outputs": [
        {
          "output_type": "stream",
          "name": "stdout",
          "text": [
            "Capital F contains Binod\n",
            "Capital L containsPun\n"
          ]
        }
      ],
      "source": [
        "F= 'Binod'\n",
        "L= 'Pun'\n",
        "print(f'Capital F contains {F}')\n",
        "print(f'Capital L contains{L}')"
      ]
    },
    {
      "cell_type": "code",
      "source": [
        "language = 'python'\n",
        "school = 'broadway'\n",
        "text = f'I am Learning {language}' + f'in a {school}'\n",
        "\n",
        "text\n",
        "\n",
        "\n"
      ],
      "metadata": {
        "colab": {
          "base_uri": "https://localhost:8080/",
          "height": 35
        },
        "id": "60O0Z95TDq_u",
        "outputId": "762c657a-c18d-4820-e6fe-b2439ffcca35"
      },
      "execution_count": null,
      "outputs": [
        {
          "output_type": "execute_result",
          "data": {
            "text/plain": [
              "'I am Learning pythonin a broadway'"
            ],
            "application/vnd.google.colaboratory.intrinsic+json": {
              "type": "string"
            }
          },
          "metadata": {},
          "execution_count": 23
        }
      ]
    },
    {
      "cell_type": "markdown",
      "source": [
        "$volume (v) = \\frac{4}{3} \\pi r^3$"
      ],
      "metadata": {
        "id": "ddq8inbcLkFE"
      }
    }
  ]
}