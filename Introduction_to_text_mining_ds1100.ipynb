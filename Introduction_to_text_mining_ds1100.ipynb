{
  "nbformat": 4,
  "nbformat_minor": 0,
  "metadata": {
    "colab": {
      "provenance": [],
      "authorship_tag": "ABX9TyN5p8lSDBLHeE26DYHDW+uc",
      "include_colab_link": true
    },
    "kernelspec": {
      "name": "python3",
      "display_name": "Python 3"
    },
    "language_info": {
      "name": "python"
    }
  },
  "cells": [
    {
      "cell_type": "markdown",
      "metadata": {
        "id": "view-in-github",
        "colab_type": "text"
      },
      "source": [
        "<a href=\"https://colab.research.google.com/github/binodpun/Data-Science-with-python/blob/main/Introduction_to_text_mining_ds1100.ipynb\" target=\"_parent\"><img src=\"https://colab.research.google.com/assets/colab-badge.svg\" alt=\"Open In Colab\"/></a>"
      ]
    },
    {
      "cell_type": "code",
      "execution_count": 1,
      "metadata": {
        "id": "fZZ2SwBPwNRi"
      },
      "outputs": [],
      "source": [
        "#NLTK: Natural Language Toolkit"
      ]
    },
    {
      "cell_type": "code",
      "source": [
        "import nltk\n",
        "nltk.download('punkt')"
      ],
      "metadata": {
        "colab": {
          "base_uri": "https://localhost:8080/"
        },
        "id": "p9AWNRSjzU0q",
        "outputId": "9a592181-120e-4152-dee4-fb71882859fa"
      },
      "execution_count": 5,
      "outputs": [
        {
          "output_type": "stream",
          "name": "stderr",
          "text": [
            "[nltk_data] Downloading package punkt to /root/nltk_data...\n",
            "[nltk_data]   Unzipping tokenizers/punkt.zip.\n"
          ]
        },
        {
          "output_type": "execute_result",
          "data": {
            "text/plain": [
              "True"
            ]
          },
          "metadata": {},
          "execution_count": 5
        }
      ]
    },
    {
      "cell_type": "code",
      "source": [
        "sent = \"Deputy Mayor Sunita Dongal leaves CPN-UML.\""
      ],
      "metadata": {
        "id": "XOeWpTgOzXBi"
      },
      "execution_count": 6,
      "outputs": []
    },
    {
      "cell_type": "code",
      "source": [
        "nltk.word_tokenize(sent)# Tokenization: split sentence to words"
      ],
      "metadata": {
        "colab": {
          "base_uri": "https://localhost:8080/"
        },
        "id": "AlaGO3NpzqWY",
        "outputId": "7186c3d1-fbbb-4466-e14b-ea45d34fbe5b"
      },
      "execution_count": 8,
      "outputs": [
        {
          "output_type": "execute_result",
          "data": {
            "text/plain": [
              "['Deputy', 'Mayor', 'Sunita', 'Dongal', 'leaves', 'CPN-UML', '.']"
            ]
          },
          "metadata": {},
          "execution_count": 8
        }
      ]
    },
    {
      "cell_type": "code",
      "source": [
        "paragraph = \"I love Tea. Tea is my favoriate.\""
      ],
      "metadata": {
        "id": "OQnlmINl0C0x"
      },
      "execution_count": 11,
      "outputs": []
    },
    {
      "cell_type": "code",
      "source": [
        "nltk.sent_tokenize(paragraph)"
      ],
      "metadata": {
        "colab": {
          "base_uri": "https://localhost:8080/"
        },
        "id": "XKHhgydl05hp",
        "outputId": "f941ed1d-d855-48a5-b478-ce8906c47670"
      },
      "execution_count": 12,
      "outputs": [
        {
          "output_type": "execute_result",
          "data": {
            "text/plain": [
              "['I love Tea.', 'Tea is my favoriate.']"
            ]
          },
          "metadata": {},
          "execution_count": 12
        }
      ]
    },
    {
      "cell_type": "markdown",
      "source": [
        "# stopwords\n",
        "* Words like “is, the. of, a” is not much important because it does not add much meaning to the sentence we can remove them using stopwords.\n",
        "has context menu"
      ],
      "metadata": {
        "id": "vToiYDEu1b9S"
      }
    },
    {
      "cell_type": "code",
      "source": [
        "text = \"He is a good boy.\""
      ],
      "metadata": {
        "id": "CrJgwZaN1ArN"
      },
      "execution_count": 13,
      "outputs": []
    },
    {
      "cell_type": "code",
      "source": [
        "nltk.download('stopwords')"
      ],
      "metadata": {
        "colab": {
          "base_uri": "https://localhost:8080/"
        },
        "id": "pEFrGiea1_dR",
        "outputId": "d80bd99b-ac3e-4cdb-c072-07329bb452b3"
      },
      "execution_count": 14,
      "outputs": [
        {
          "output_type": "stream",
          "name": "stderr",
          "text": [
            "[nltk_data] Downloading package stopwords to /root/nltk_data...\n",
            "[nltk_data]   Unzipping corpora/stopwords.zip.\n"
          ]
        },
        {
          "output_type": "execute_result",
          "data": {
            "text/plain": [
              "True"
            ]
          },
          "metadata": {},
          "execution_count": 14
        }
      ]
    },
    {
      "cell_type": "code",
      "source": [
        "nltk.corpus.stopwords.words('english')"
      ],
      "metadata": {
        "colab": {
          "base_uri": "https://localhost:8080/"
        },
        "id": "PfdKir6d2K-e",
        "outputId": "038d5212-a0be-4aa9-dee5-4554b1bcd1ae"
      },
      "execution_count": 15,
      "outputs": [
        {
          "output_type": "execute_result",
          "data": {
            "text/plain": [
              "['i',\n",
              " 'me',\n",
              " 'my',\n",
              " 'myself',\n",
              " 'we',\n",
              " 'our',\n",
              " 'ours',\n",
              " 'ourselves',\n",
              " 'you',\n",
              " \"you're\",\n",
              " \"you've\",\n",
              " \"you'll\",\n",
              " \"you'd\",\n",
              " 'your',\n",
              " 'yours',\n",
              " 'yourself',\n",
              " 'yourselves',\n",
              " 'he',\n",
              " 'him',\n",
              " 'his',\n",
              " 'himself',\n",
              " 'she',\n",
              " \"she's\",\n",
              " 'her',\n",
              " 'hers',\n",
              " 'herself',\n",
              " 'it',\n",
              " \"it's\",\n",
              " 'its',\n",
              " 'itself',\n",
              " 'they',\n",
              " 'them',\n",
              " 'their',\n",
              " 'theirs',\n",
              " 'themselves',\n",
              " 'what',\n",
              " 'which',\n",
              " 'who',\n",
              " 'whom',\n",
              " 'this',\n",
              " 'that',\n",
              " \"that'll\",\n",
              " 'these',\n",
              " 'those',\n",
              " 'am',\n",
              " 'is',\n",
              " 'are',\n",
              " 'was',\n",
              " 'were',\n",
              " 'be',\n",
              " 'been',\n",
              " 'being',\n",
              " 'have',\n",
              " 'has',\n",
              " 'had',\n",
              " 'having',\n",
              " 'do',\n",
              " 'does',\n",
              " 'did',\n",
              " 'doing',\n",
              " 'a',\n",
              " 'an',\n",
              " 'the',\n",
              " 'and',\n",
              " 'but',\n",
              " 'if',\n",
              " 'or',\n",
              " 'because',\n",
              " 'as',\n",
              " 'until',\n",
              " 'while',\n",
              " 'of',\n",
              " 'at',\n",
              " 'by',\n",
              " 'for',\n",
              " 'with',\n",
              " 'about',\n",
              " 'against',\n",
              " 'between',\n",
              " 'into',\n",
              " 'through',\n",
              " 'during',\n",
              " 'before',\n",
              " 'after',\n",
              " 'above',\n",
              " 'below',\n",
              " 'to',\n",
              " 'from',\n",
              " 'up',\n",
              " 'down',\n",
              " 'in',\n",
              " 'out',\n",
              " 'on',\n",
              " 'off',\n",
              " 'over',\n",
              " 'under',\n",
              " 'again',\n",
              " 'further',\n",
              " 'then',\n",
              " 'once',\n",
              " 'here',\n",
              " 'there',\n",
              " 'when',\n",
              " 'where',\n",
              " 'why',\n",
              " 'how',\n",
              " 'all',\n",
              " 'any',\n",
              " 'both',\n",
              " 'each',\n",
              " 'few',\n",
              " 'more',\n",
              " 'most',\n",
              " 'other',\n",
              " 'some',\n",
              " 'such',\n",
              " 'no',\n",
              " 'nor',\n",
              " 'not',\n",
              " 'only',\n",
              " 'own',\n",
              " 'same',\n",
              " 'so',\n",
              " 'than',\n",
              " 'too',\n",
              " 'very',\n",
              " 's',\n",
              " 't',\n",
              " 'can',\n",
              " 'will',\n",
              " 'just',\n",
              " 'don',\n",
              " \"don't\",\n",
              " 'should',\n",
              " \"should've\",\n",
              " 'now',\n",
              " 'd',\n",
              " 'll',\n",
              " 'm',\n",
              " 'o',\n",
              " 're',\n",
              " 've',\n",
              " 'y',\n",
              " 'ain',\n",
              " 'aren',\n",
              " \"aren't\",\n",
              " 'couldn',\n",
              " \"couldn't\",\n",
              " 'didn',\n",
              " \"didn't\",\n",
              " 'doesn',\n",
              " \"doesn't\",\n",
              " 'hadn',\n",
              " \"hadn't\",\n",
              " 'hasn',\n",
              " \"hasn't\",\n",
              " 'haven',\n",
              " \"haven't\",\n",
              " 'isn',\n",
              " \"isn't\",\n",
              " 'ma',\n",
              " 'mightn',\n",
              " \"mightn't\",\n",
              " 'mustn',\n",
              " \"mustn't\",\n",
              " 'needn',\n",
              " \"needn't\",\n",
              " 'shan',\n",
              " \"shan't\",\n",
              " 'shouldn',\n",
              " \"shouldn't\",\n",
              " 'wasn',\n",
              " \"wasn't\",\n",
              " 'weren',\n",
              " \"weren't\",\n",
              " 'won',\n",
              " \"won't\",\n",
              " 'wouldn',\n",
              " \"wouldn't\"]"
            ]
          },
          "metadata": {},
          "execution_count": 15
        }
      ]
    },
    {
      "cell_type": "code",
      "source": [
        "nltk.corpus.stopwords.words('nepali')"
      ],
      "metadata": {
        "colab": {
          "base_uri": "https://localhost:8080/"
        },
        "id": "bcC7CjlK2anK",
        "outputId": "d716ed61-aca7-42e1-d15f-e43d3caa7056"
      },
      "execution_count": 17,
      "outputs": [
        {
          "output_type": "execute_result",
          "data": {
            "text/plain": [
              "['छ',\n",
              " 'र',\n",
              " 'पनि',\n",
              " 'छन्',\n",
              " 'लागि',\n",
              " 'भएको',\n",
              " 'गरेको',\n",
              " 'भने',\n",
              " 'गर्न',\n",
              " 'गर्ने',\n",
              " 'हो',\n",
              " 'तथा',\n",
              " 'यो',\n",
              " 'रहेको',\n",
              " 'उनले',\n",
              " 'थियो',\n",
              " 'हुने',\n",
              " 'गरेका',\n",
              " 'थिए',\n",
              " 'गर्दै',\n",
              " 'तर',\n",
              " 'नै',\n",
              " 'को',\n",
              " 'मा',\n",
              " 'हुन्',\n",
              " 'भन्ने',\n",
              " 'हुन',\n",
              " 'गरी',\n",
              " 'त',\n",
              " 'हुन्छ',\n",
              " 'अब',\n",
              " 'के',\n",
              " 'रहेका',\n",
              " 'गरेर',\n",
              " 'छैन',\n",
              " 'दिए',\n",
              " 'भए',\n",
              " 'यस',\n",
              " 'ले',\n",
              " 'गर्नु',\n",
              " 'औं',\n",
              " 'सो',\n",
              " 'त्यो',\n",
              " 'कि',\n",
              " 'जुन',\n",
              " 'यी',\n",
              " 'का',\n",
              " 'गरि',\n",
              " 'ती',\n",
              " 'न',\n",
              " 'छु',\n",
              " 'छौं',\n",
              " 'लाई',\n",
              " 'नि',\n",
              " 'उप',\n",
              " 'अक्सर',\n",
              " 'आदि',\n",
              " 'कसरी',\n",
              " 'क्रमशः',\n",
              " 'चाले',\n",
              " 'अगाडी',\n",
              " 'अझै',\n",
              " 'अनुसार',\n",
              " 'अन्तर्गत',\n",
              " 'अन्य',\n",
              " 'अन्यत्र',\n",
              " 'अन्यथा',\n",
              " 'अरु',\n",
              " 'अरुलाई',\n",
              " 'अर्को',\n",
              " 'अर्थात',\n",
              " 'अर्थात्',\n",
              " 'अलग',\n",
              " 'आए',\n",
              " 'आजको',\n",
              " 'ओठ',\n",
              " 'आत्म',\n",
              " 'आफू',\n",
              " 'आफूलाई',\n",
              " 'आफ्नै',\n",
              " 'आफ्नो',\n",
              " 'आयो',\n",
              " 'उदाहरण',\n",
              " 'उनको',\n",
              " 'उहालाई',\n",
              " 'एउटै',\n",
              " 'एक',\n",
              " 'एकदम',\n",
              " 'कतै',\n",
              " 'कम से कम',\n",
              " 'कसै',\n",
              " 'कसैले',\n",
              " 'कहाँबाट',\n",
              " 'कहिलेकाहीं',\n",
              " 'का',\n",
              " 'किन',\n",
              " 'किनभने',\n",
              " 'कुनै',\n",
              " 'कुरा',\n",
              " 'कृपया',\n",
              " 'केही',\n",
              " 'कोही',\n",
              " 'गए',\n",
              " 'गरौं',\n",
              " 'गर्छ',\n",
              " 'गर्छु',\n",
              " 'गर्नुपर्छ',\n",
              " 'गयौ',\n",
              " 'गैर',\n",
              " 'चार',\n",
              " 'चाहनुहुन्छ',\n",
              " 'चाहन्छु',\n",
              " 'चाहिए',\n",
              " 'छू',\n",
              " 'जताततै',\n",
              " 'जब',\n",
              " 'जबकि',\n",
              " 'जसको',\n",
              " 'जसबाट',\n",
              " 'जसमा',\n",
              " 'जसलाई',\n",
              " 'जसले',\n",
              " 'जस्तै',\n",
              " 'जस्तो',\n",
              " 'जस्तोसुकै',\n",
              " 'जहाँ',\n",
              " 'जान',\n",
              " 'जाहिर',\n",
              " 'जे',\n",
              " 'जो',\n",
              " 'ठीक',\n",
              " 'तत्काल',\n",
              " 'तदनुसार',\n",
              " 'तपाईको',\n",
              " 'तपाई',\n",
              " 'पर्याप्त',\n",
              " 'पहिले',\n",
              " 'पहिलो',\n",
              " 'पहिल्यै',\n",
              " 'पाँच',\n",
              " 'पाँचौं',\n",
              " 'तल',\n",
              " 'तापनी',\n",
              " 'तिनी',\n",
              " 'तिनीहरू',\n",
              " 'तिनीहरुको',\n",
              " 'तिनिहरुलाई',\n",
              " 'तिमी',\n",
              " 'तिर',\n",
              " 'तीन',\n",
              " 'तुरुन्तै',\n",
              " 'तेस्रो',\n",
              " 'तेस्कारण',\n",
              " 'पूर्व',\n",
              " 'प्रति',\n",
              " 'प्रतेक',\n",
              " 'प्लस',\n",
              " 'फेरी',\n",
              " 'बने',\n",
              " 'त्सपछि',\n",
              " 'त्सैले',\n",
              " 'त्यहाँ',\n",
              " 'थिएन',\n",
              " 'दिनुभएको',\n",
              " 'दिनुहुन्छ',\n",
              " 'दुई',\n",
              " 'देखि',\n",
              " 'बरु',\n",
              " 'बारे',\n",
              " 'बाहिर',\n",
              " 'देखिन्छ',\n",
              " 'देखियो',\n",
              " 'देखे',\n",
              " 'देखेको',\n",
              " 'देखेर',\n",
              " 'दोस्रो',\n",
              " 'धेरै',\n",
              " 'नजिकै',\n",
              " 'नत्र',\n",
              " 'नयाँ',\n",
              " 'निम्ति',\n",
              " 'बाहेक',\n",
              " 'बीच',\n",
              " 'बीचमा',\n",
              " 'भन',\n",
              " 'निम्न',\n",
              " 'निम्नानुसार',\n",
              " 'निर्दिष्ट',\n",
              " 'नौ',\n",
              " 'पक्का',\n",
              " 'पक्कै',\n",
              " 'पछि',\n",
              " 'पछिल्लो',\n",
              " 'पटक',\n",
              " 'पर्छ',\n",
              " 'पर्थ्यो',\n",
              " 'भन्छन्',\n",
              " 'भन्',\n",
              " 'भन्छु',\n",
              " 'भन्दा',\n",
              " 'भन्नुभयो',\n",
              " 'भर',\n",
              " 'भित्र',\n",
              " 'भित्री',\n",
              " 'म',\n",
              " 'मलाई',\n",
              " 'मात्र',\n",
              " 'माथि',\n",
              " 'मुख्य',\n",
              " 'मेरो',\n",
              " 'यति',\n",
              " 'यथोचित',\n",
              " 'यदि',\n",
              " 'यद्यपि',\n",
              " 'यसको',\n",
              " 'यसपछि',\n",
              " 'यसबाहेक',\n",
              " 'यसरी',\n",
              " 'यसो',\n",
              " 'यस्तो',\n",
              " 'यहाँ',\n",
              " 'यहाँसम्म',\n",
              " 'या',\n",
              " 'रही',\n",
              " 'राखे',\n",
              " 'राख्छ',\n",
              " 'राम्रो',\n",
              " 'रूप',\n",
              " 'लगभग',\n",
              " 'वरीपरी',\n",
              " 'वास्तवमा',\n",
              " 'बिरुद्ध',\n",
              " 'बिशेष',\n",
              " 'सायद',\n",
              " 'शायद',\n",
              " 'संग',\n",
              " 'संगै',\n",
              " 'सक्छ',\n",
              " 'सट्टा',\n",
              " 'सधै',\n",
              " 'सबै',\n",
              " 'सबैलाई',\n",
              " 'समय',\n",
              " 'सम्भव',\n",
              " 'सम्म',\n",
              " 'सही',\n",
              " 'साँच्चै',\n",
              " 'सात',\n",
              " 'साथ',\n",
              " 'साथै',\n",
              " 'सारा',\n",
              " 'सोही',\n",
              " 'स्पष्ट',\n",
              " 'हरे',\n",
              " 'हरेक']"
            ]
          },
          "metadata": {},
          "execution_count": 17
        }
      ]
    },
    {
      "cell_type": "code",
      "source": [
        "text = \"He is a good boy\"\n",
        "text = text.lower()\n",
        "words = nltk.word_tokenize(text)\n",
        "stopwords = nltk.corpus.stopwords.words('english')\n",
        "\" \".join([word for word in words if word not in stopwords])"
      ],
      "metadata": {
        "colab": {
          "base_uri": "https://localhost:8080/",
          "height": 35
        },
        "id": "RVDOKWeK2h2M",
        "outputId": "6bf85594-a5fd-4304-9e36-f950b8b1a1a9"
      },
      "execution_count": 20,
      "outputs": [
        {
          "output_type": "execute_result",
          "data": {
            "text/plain": [
              "'good boy'"
            ],
            "application/vnd.google.colaboratory.intrinsic+json": {
              "type": "string"
            }
          },
          "metadata": {},
          "execution_count": 20
        }
      ]
    },
    {
      "cell_type": "markdown",
      "source": [
        "# Stemming vs lemmatization"
      ],
      "metadata": {
        "id": "eWD7S0TH39Cu"
      }
    },
    {
      "cell_type": "markdown",
      "source": [
        "Stemming: convert words into root word or base word stem or base word- word may not have any meaning - very fast"
      ],
      "metadata": {
        "id": "M-Ss9ctL4Iny"
      }
    },
    {
      "cell_type": "code",
      "source": [
        "words = ['change', 'changes', 'changing']\n",
        "stemmer = nltk.stem.PorterStemmer()\n",
        "[stemmer.stem(word) for word in words]"
      ],
      "metadata": {
        "colab": {
          "base_uri": "https://localhost:8080/"
        },
        "id": "ZysbPTJv3N7R",
        "outputId": "5fea4654-2603-477c-dc75-5c235c472494"
      },
      "execution_count": 22,
      "outputs": [
        {
          "output_type": "execute_result",
          "data": {
            "text/plain": [
              "['chang', 'chang', 'chang']"
            ]
          },
          "metadata": {},
          "execution_count": 22
        }
      ]
    },
    {
      "cell_type": "code",
      "source": [
        "# sabai change ma gayo- tara chang ko dictionary meaning hudaina\n",
        "# so we cannot use stemming in summarization, chatbot etc.\n",
        "# we can use it on spam classification, review analysis|"
      ],
      "metadata": {
        "id": "SQ6uCPIC5Flk"
      },
      "execution_count": 23,
      "outputs": []
    },
    {
      "cell_type": "markdown",
      "source": [
        "# Lemmatization: Lemmatization deals with reducing the word to its cannonical dictionary form. The root word is called a 'lemma' and the method is called lemmatization.- slow"
      ],
      "metadata": {
        "id": "bnimUwaG5uFh"
      }
    },
    {
      "cell_type": "code",
      "source": [
        "nltk.download('wordnet')"
      ],
      "metadata": {
        "colab": {
          "base_uri": "https://localhost:8080/"
        },
        "id": "1AzeN53X5sJh",
        "outputId": "88a60ac4-272c-4e49-bcc9-0263c3857ddb"
      },
      "execution_count": 24,
      "outputs": [
        {
          "output_type": "stream",
          "name": "stderr",
          "text": [
            "[nltk_data] Downloading package wordnet to /root/nltk_data...\n"
          ]
        },
        {
          "output_type": "execute_result",
          "data": {
            "text/plain": [
              "True"
            ]
          },
          "metadata": {},
          "execution_count": 24
        }
      ]
    },
    {
      "cell_type": "code",
      "source": [
        "words = ['change', 'changes', 'changing']\n",
        "lemmatizer = nltk.stem.WordNetLemmatizer()\n",
        "[lemmatizer.lemmatize(word) for word in words]"
      ],
      "metadata": {
        "colab": {
          "base_uri": "https://localhost:8080/"
        },
        "id": "TVlxpiTE6I1P",
        "outputId": "8fd22135-a6c4-457f-ab2d-70bd2c0d71d9"
      },
      "execution_count": 25,
      "outputs": [
        {
          "output_type": "execute_result",
          "data": {
            "text/plain": [
              "['change', 'change', 'changing']"
            ]
          },
          "metadata": {},
          "execution_count": 25
        }
      ]
    },
    {
      "cell_type": "markdown",
      "source": [
        "# Data Cleaning: Removing HTML"
      ],
      "metadata": {
        "id": "husgAh-i6v27"
      }
    },
    {
      "cell_type": "code",
      "source": [
        "text = \"<h1> Deputy Mayor Sunita Dongal</b> leaves CPN-UML.</h1>\""
      ],
      "metadata": {
        "id": "F2yhBr7X6fIu"
      },
      "execution_count": 26,
      "outputs": []
    },
    {
      "cell_type": "code",
      "source": [
        "from bs4 import BeautifulSoup\n",
        "soup = BeautifulSoup(text, 'html.parser')\n",
        "soup.text"
      ],
      "metadata": {
        "colab": {
          "base_uri": "https://localhost:8080/",
          "height": 35
        },
        "id": "NvvV0Gcb7Kc5",
        "outputId": "fb806d4a-463f-4a86-934a-af2cf43d348c"
      },
      "execution_count": 28,
      "outputs": [
        {
          "output_type": "execute_result",
          "data": {
            "text/plain": [
              "' Deputy Mayor Sunita Dongal leaves CPN-UML.'"
            ],
            "application/vnd.google.colaboratory.intrinsic+json": {
              "type": "string"
            }
          },
          "metadata": {},
          "execution_count": 28
        }
      ]
    },
    {
      "cell_type": "code",
      "source": [
        "# or you can use regex\n",
        "import re\n",
        "comp = re.compile(r'<.*?>')\n",
        "comp.sub(\"\", text)"
      ],
      "metadata": {
        "colab": {
          "base_uri": "https://localhost:8080/",
          "height": 35
        },
        "id": "Jz6azEoe7eyn",
        "outputId": "2fe2d1eb-26ee-4b60-ae5e-08cd56049143"
      },
      "execution_count": 29,
      "outputs": [
        {
          "output_type": "execute_result",
          "data": {
            "text/plain": [
              "' Deputy Mayor Sunita Dongal leaves CPN-UML.'"
            ],
            "application/vnd.google.colaboratory.intrinsic+json": {
              "type": "string"
            }
          },
          "metadata": {},
          "execution_count": 29
        }
      ]
    },
    {
      "cell_type": "markdown",
      "source": [
        "# converting text to vector"
      ],
      "metadata": {
        "id": "rwMdXnuU760V"
      }
    },
    {
      "cell_type": "code",
      "source": [
        "d1 = 'He is a lazy boy. She is also lazy' # document 1\n",
        "d2 = 'Neeraj is a lazy person' # document 2"
      ],
      "metadata": {
        "id": "whpib6dk75Y9"
      },
      "execution_count": 30,
      "outputs": []
    },
    {
      "cell_type": "code",
      "source": [
        "corpus = [d1,d2]"
      ],
      "metadata": {
        "id": "lUsPXzPl-8UG"
      },
      "execution_count": 33,
      "outputs": []
    },
    {
      "cell_type": "code",
      "source": [
        "from sklearn.feature_extraction.text import CountVectorizer\n",
        "vectorizer = CountVectorizer(stop_words='english')\n",
        "X = vectorizer.fit_transform(corpus)"
      ],
      "metadata": {
        "id": "akGZjT2W8zqc"
      },
      "execution_count": 34,
      "outputs": []
    },
    {
      "cell_type": "code",
      "source": [
        "import pandas as pd\n",
        "pd.DataFrame(X.toarray(), columns = vectorizer.get_feature_names_out())"
      ],
      "metadata": {
        "colab": {
          "base_uri": "https://localhost:8080/",
          "height": 112
        },
        "id": "1rxR_Tke-zCL",
        "outputId": "e6abe4ce-df02-445b-93a6-e3063cbc6af9"
      },
      "execution_count": 37,
      "outputs": [
        {
          "output_type": "execute_result",
          "data": {
            "text/plain": [
              "   boy  lazy  neeraj  person\n",
              "0    1     2       0       0\n",
              "1    0     1       1       1"
            ],
            "text/html": [
              "\n",
              "  <div id=\"df-58157f31-48df-474f-8c48-5ce5b74c0f45\" class=\"colab-df-container\">\n",
              "    <div>\n",
              "<style scoped>\n",
              "    .dataframe tbody tr th:only-of-type {\n",
              "        vertical-align: middle;\n",
              "    }\n",
              "\n",
              "    .dataframe tbody tr th {\n",
              "        vertical-align: top;\n",
              "    }\n",
              "\n",
              "    .dataframe thead th {\n",
              "        text-align: right;\n",
              "    }\n",
              "</style>\n",
              "<table border=\"1\" class=\"dataframe\">\n",
              "  <thead>\n",
              "    <tr style=\"text-align: right;\">\n",
              "      <th></th>\n",
              "      <th>boy</th>\n",
              "      <th>lazy</th>\n",
              "      <th>neeraj</th>\n",
              "      <th>person</th>\n",
              "    </tr>\n",
              "  </thead>\n",
              "  <tbody>\n",
              "    <tr>\n",
              "      <th>0</th>\n",
              "      <td>1</td>\n",
              "      <td>2</td>\n",
              "      <td>0</td>\n",
              "      <td>0</td>\n",
              "    </tr>\n",
              "    <tr>\n",
              "      <th>1</th>\n",
              "      <td>0</td>\n",
              "      <td>1</td>\n",
              "      <td>1</td>\n",
              "      <td>1</td>\n",
              "    </tr>\n",
              "  </tbody>\n",
              "</table>\n",
              "</div>\n",
              "    <div class=\"colab-df-buttons\">\n",
              "\n",
              "  <div class=\"colab-df-container\">\n",
              "    <button class=\"colab-df-convert\" onclick=\"convertToInteractive('df-58157f31-48df-474f-8c48-5ce5b74c0f45')\"\n",
              "            title=\"Convert this dataframe to an interactive table.\"\n",
              "            style=\"display:none;\">\n",
              "\n",
              "  <svg xmlns=\"http://www.w3.org/2000/svg\" height=\"24px\" viewBox=\"0 -960 960 960\">\n",
              "    <path d=\"M120-120v-720h720v720H120Zm60-500h600v-160H180v160Zm220 220h160v-160H400v160Zm0 220h160v-160H400v160ZM180-400h160v-160H180v160Zm440 0h160v-160H620v160ZM180-180h160v-160H180v160Zm440 0h160v-160H620v160Z\"/>\n",
              "  </svg>\n",
              "    </button>\n",
              "\n",
              "  <style>\n",
              "    .colab-df-container {\n",
              "      display:flex;\n",
              "      gap: 12px;\n",
              "    }\n",
              "\n",
              "    .colab-df-convert {\n",
              "      background-color: #E8F0FE;\n",
              "      border: none;\n",
              "      border-radius: 50%;\n",
              "      cursor: pointer;\n",
              "      display: none;\n",
              "      fill: #1967D2;\n",
              "      height: 32px;\n",
              "      padding: 0 0 0 0;\n",
              "      width: 32px;\n",
              "    }\n",
              "\n",
              "    .colab-df-convert:hover {\n",
              "      background-color: #E2EBFA;\n",
              "      box-shadow: 0px 1px 2px rgba(60, 64, 67, 0.3), 0px 1px 3px 1px rgba(60, 64, 67, 0.15);\n",
              "      fill: #174EA6;\n",
              "    }\n",
              "\n",
              "    .colab-df-buttons div {\n",
              "      margin-bottom: 4px;\n",
              "    }\n",
              "\n",
              "    [theme=dark] .colab-df-convert {\n",
              "      background-color: #3B4455;\n",
              "      fill: #D2E3FC;\n",
              "    }\n",
              "\n",
              "    [theme=dark] .colab-df-convert:hover {\n",
              "      background-color: #434B5C;\n",
              "      box-shadow: 0px 1px 3px 1px rgba(0, 0, 0, 0.15);\n",
              "      filter: drop-shadow(0px 1px 2px rgba(0, 0, 0, 0.3));\n",
              "      fill: #FFFFFF;\n",
              "    }\n",
              "  </style>\n",
              "\n",
              "    <script>\n",
              "      const buttonEl =\n",
              "        document.querySelector('#df-58157f31-48df-474f-8c48-5ce5b74c0f45 button.colab-df-convert');\n",
              "      buttonEl.style.display =\n",
              "        google.colab.kernel.accessAllowed ? 'block' : 'none';\n",
              "\n",
              "      async function convertToInteractive(key) {\n",
              "        const element = document.querySelector('#df-58157f31-48df-474f-8c48-5ce5b74c0f45');\n",
              "        const dataTable =\n",
              "          await google.colab.kernel.invokeFunction('convertToInteractive',\n",
              "                                                    [key], {});\n",
              "        if (!dataTable) return;\n",
              "\n",
              "        const docLinkHtml = 'Like what you see? Visit the ' +\n",
              "          '<a target=\"_blank\" href=https://colab.research.google.com/notebooks/data_table.ipynb>data table notebook</a>'\n",
              "          + ' to learn more about interactive tables.';\n",
              "        element.innerHTML = '';\n",
              "        dataTable['output_type'] = 'display_data';\n",
              "        await google.colab.output.renderOutput(dataTable, element);\n",
              "        const docLink = document.createElement('div');\n",
              "        docLink.innerHTML = docLinkHtml;\n",
              "        element.appendChild(docLink);\n",
              "      }\n",
              "    </script>\n",
              "  </div>\n",
              "\n",
              "\n",
              "<div id=\"df-f3bb3d2e-631a-4fe6-96f1-ae5970e82d55\">\n",
              "  <button class=\"colab-df-quickchart\" onclick=\"quickchart('df-f3bb3d2e-631a-4fe6-96f1-ae5970e82d55')\"\n",
              "            title=\"Suggest charts\"\n",
              "            style=\"display:none;\">\n",
              "\n",
              "<svg xmlns=\"http://www.w3.org/2000/svg\" height=\"24px\"viewBox=\"0 0 24 24\"\n",
              "     width=\"24px\">\n",
              "    <g>\n",
              "        <path d=\"M19 3H5c-1.1 0-2 .9-2 2v14c0 1.1.9 2 2 2h14c1.1 0 2-.9 2-2V5c0-1.1-.9-2-2-2zM9 17H7v-7h2v7zm4 0h-2V7h2v10zm4 0h-2v-4h2v4z\"/>\n",
              "    </g>\n",
              "</svg>\n",
              "  </button>\n",
              "\n",
              "<style>\n",
              "  .colab-df-quickchart {\n",
              "      --bg-color: #E8F0FE;\n",
              "      --fill-color: #1967D2;\n",
              "      --hover-bg-color: #E2EBFA;\n",
              "      --hover-fill-color: #174EA6;\n",
              "      --disabled-fill-color: #AAA;\n",
              "      --disabled-bg-color: #DDD;\n",
              "  }\n",
              "\n",
              "  [theme=dark] .colab-df-quickchart {\n",
              "      --bg-color: #3B4455;\n",
              "      --fill-color: #D2E3FC;\n",
              "      --hover-bg-color: #434B5C;\n",
              "      --hover-fill-color: #FFFFFF;\n",
              "      --disabled-bg-color: #3B4455;\n",
              "      --disabled-fill-color: #666;\n",
              "  }\n",
              "\n",
              "  .colab-df-quickchart {\n",
              "    background-color: var(--bg-color);\n",
              "    border: none;\n",
              "    border-radius: 50%;\n",
              "    cursor: pointer;\n",
              "    display: none;\n",
              "    fill: var(--fill-color);\n",
              "    height: 32px;\n",
              "    padding: 0;\n",
              "    width: 32px;\n",
              "  }\n",
              "\n",
              "  .colab-df-quickchart:hover {\n",
              "    background-color: var(--hover-bg-color);\n",
              "    box-shadow: 0 1px 2px rgba(60, 64, 67, 0.3), 0 1px 3px 1px rgba(60, 64, 67, 0.15);\n",
              "    fill: var(--button-hover-fill-color);\n",
              "  }\n",
              "\n",
              "  .colab-df-quickchart-complete:disabled,\n",
              "  .colab-df-quickchart-complete:disabled:hover {\n",
              "    background-color: var(--disabled-bg-color);\n",
              "    fill: var(--disabled-fill-color);\n",
              "    box-shadow: none;\n",
              "  }\n",
              "\n",
              "  .colab-df-spinner {\n",
              "    border: 2px solid var(--fill-color);\n",
              "    border-color: transparent;\n",
              "    border-bottom-color: var(--fill-color);\n",
              "    animation:\n",
              "      spin 1s steps(1) infinite;\n",
              "  }\n",
              "\n",
              "  @keyframes spin {\n",
              "    0% {\n",
              "      border-color: transparent;\n",
              "      border-bottom-color: var(--fill-color);\n",
              "      border-left-color: var(--fill-color);\n",
              "    }\n",
              "    20% {\n",
              "      border-color: transparent;\n",
              "      border-left-color: var(--fill-color);\n",
              "      border-top-color: var(--fill-color);\n",
              "    }\n",
              "    30% {\n",
              "      border-color: transparent;\n",
              "      border-left-color: var(--fill-color);\n",
              "      border-top-color: var(--fill-color);\n",
              "      border-right-color: var(--fill-color);\n",
              "    }\n",
              "    40% {\n",
              "      border-color: transparent;\n",
              "      border-right-color: var(--fill-color);\n",
              "      border-top-color: var(--fill-color);\n",
              "    }\n",
              "    60% {\n",
              "      border-color: transparent;\n",
              "      border-right-color: var(--fill-color);\n",
              "    }\n",
              "    80% {\n",
              "      border-color: transparent;\n",
              "      border-right-color: var(--fill-color);\n",
              "      border-bottom-color: var(--fill-color);\n",
              "    }\n",
              "    90% {\n",
              "      border-color: transparent;\n",
              "      border-bottom-color: var(--fill-color);\n",
              "    }\n",
              "  }\n",
              "</style>\n",
              "\n",
              "  <script>\n",
              "    async function quickchart(key) {\n",
              "      const quickchartButtonEl =\n",
              "        document.querySelector('#' + key + ' button');\n",
              "      quickchartButtonEl.disabled = true;  // To prevent multiple clicks.\n",
              "      quickchartButtonEl.classList.add('colab-df-spinner');\n",
              "      try {\n",
              "        const charts = await google.colab.kernel.invokeFunction(\n",
              "            'suggestCharts', [key], {});\n",
              "      } catch (error) {\n",
              "        console.error('Error during call to suggestCharts:', error);\n",
              "      }\n",
              "      quickchartButtonEl.classList.remove('colab-df-spinner');\n",
              "      quickchartButtonEl.classList.add('colab-df-quickchart-complete');\n",
              "    }\n",
              "    (() => {\n",
              "      let quickchartButtonEl =\n",
              "        document.querySelector('#df-f3bb3d2e-631a-4fe6-96f1-ae5970e82d55 button');\n",
              "      quickchartButtonEl.style.display =\n",
              "        google.colab.kernel.accessAllowed ? 'block' : 'none';\n",
              "    })();\n",
              "  </script>\n",
              "</div>\n",
              "\n",
              "    </div>\n",
              "  </div>\n"
            ],
            "application/vnd.google.colaboratory.intrinsic+json": {
              "type": "dataframe",
              "summary": "{\n  \"name\": \"pd\",\n  \"rows\": 2,\n  \"fields\": [\n    {\n      \"column\": \"boy\",\n      \"properties\": {\n        \"dtype\": \"number\",\n        \"std\": 0,\n        \"min\": 0,\n        \"max\": 1,\n        \"num_unique_values\": 2,\n        \"samples\": [\n          0,\n          1\n        ],\n        \"semantic_type\": \"\",\n        \"description\": \"\"\n      }\n    },\n    {\n      \"column\": \"lazy\",\n      \"properties\": {\n        \"dtype\": \"number\",\n        \"std\": 0,\n        \"min\": 1,\n        \"max\": 2,\n        \"num_unique_values\": 2,\n        \"samples\": [\n          1,\n          2\n        ],\n        \"semantic_type\": \"\",\n        \"description\": \"\"\n      }\n    },\n    {\n      \"column\": \"neeraj\",\n      \"properties\": {\n        \"dtype\": \"number\",\n        \"std\": 0,\n        \"min\": 0,\n        \"max\": 1,\n        \"num_unique_values\": 2,\n        \"samples\": [\n          1,\n          0\n        ],\n        \"semantic_type\": \"\",\n        \"description\": \"\"\n      }\n    },\n    {\n      \"column\": \"person\",\n      \"properties\": {\n        \"dtype\": \"number\",\n        \"std\": 0,\n        \"min\": 0,\n        \"max\": 1,\n        \"num_unique_values\": 2,\n        \"samples\": [\n          1,\n          0\n        ],\n        \"semantic_type\": \"\",\n        \"description\": \"\"\n      }\n    }\n  ]\n}"
            }
          },
          "metadata": {},
          "execution_count": 37
        }
      ]
    },
    {
      "cell_type": "code",
      "source": [],
      "metadata": {
        "id": "PZV1VYXb_aKC"
      },
      "execution_count": null,
      "outputs": []
    }
  ]
}